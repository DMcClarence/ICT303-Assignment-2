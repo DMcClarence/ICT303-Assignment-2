{
 "cells": [
  {
   "metadata": {},
   "cell_type": "code",
   "source": [
    "%pip install torch torchvision --index-url https://download.pytorch.org/whl/cu129\n",
    "%pip install matplotlib\n",
    "%pip install numpy\n",
    "%pip install tensorboard\n",
    "%pip install scikit-learn"
   ],
   "id": "924ddecfdff506ee",
   "outputs": [],
   "execution_count": null
  },
  {
   "metadata": {},
   "cell_type": "code",
   "outputs": [],
   "execution_count": null,
   "source": "from torchvision import transforms",
   "id": "86b21a5e4b47a6fe"
  },
  {
   "metadata": {},
   "cell_type": "code",
   "outputs": [],
   "execution_count": null,
   "source": [
    "train_transform = transforms.Compose([transforms.Resize((224, 224)),\n",
    "                                      transforms.RandomHorizontalFlip(),\n",
    "                                      transforms.RandomVerticalFlip(),\n",
    "                                      transforms.RandomRotation(180),\n",
    "                                      transforms.RandomAdjustSharpness(0), # Randomly Blur Image\n",
    "                                      transforms.ToTensor(),\n",
    "                                      transforms.Normalize((0.5, 0.5, 0.5), (0.5, 0.5, 0.5))])"
   ],
   "id": "be73c1dc9ffc710a"
  },
  {
   "metadata": {},
   "cell_type": "markdown",
   "source": "As someone who works in the Fire Detection and Evacuation industry, I thought it would be interesting to train a model that can recognise if there is a fire in a given image. So I've decided to train a model to perform binary classification on images that contain fire or no fire. I decided to do binary classification as it is something I am familiar with, allowing me to focus more on the process with finetuning without worrying too much about how to load and train the model.",
   "id": "d579ad94be4d3301"
  },
  {
   "metadata": {},
   "cell_type": "markdown",
   "source": "As I already have built a data loader and trainer, and confusion matrix class in the first assignment, I brought that across and made any improvements or adjustments I needed to make. I also installed any libraries I required.",
   "id": "24e01cd4de09b0e8"
  },
  {
   "metadata": {},
   "cell_type": "markdown",
   "source": "I have decided to move the image tranforms out of the data loader, making it a bit more modular by passing in the transformation to use. I also have update the transformation I will use for training by introducing some data augmentation such as random flips, rotation and sharpness. I added the sharpness augmentation to simulate the possibility of coming from low quality images, such as screenshots of CCTV footage or equivalent, allowing this to be applied in real world scenarios.",
   "id": "c9fc55a0ef57761f"
  },
  {
   "metadata": {},
   "cell_type": "markdown",
   "source": "Originally I was planning to try to implement a DenseNet architecture to address potential issues with exploding or tarnishing gradients, however with the size of the dataset I have chosen, I think it may make the model too complex for the amount of data. So for the size of the dataset, it should require a smaller model. For this reason, I have decided to experiment around with some custom CNN architectures.",
   "id": "8cad4bb87b707a3f"
  }
 ],
 "metadata": {
  "kernelspec": {
   "display_name": "Python 3",
   "language": "python",
   "name": "python3"
  },
  "language_info": {
   "codemirror_mode": {
    "name": "ipython",
    "version": 2
   },
   "file_extension": ".py",
   "mimetype": "text/x-python",
   "name": "python",
   "nbconvert_exporter": "python",
   "pygments_lexer": "ipython2",
   "version": "2.7.6"
  }
 },
 "nbformat": 4,
 "nbformat_minor": 5
}
